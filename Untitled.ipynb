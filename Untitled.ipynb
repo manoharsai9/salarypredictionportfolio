{
 "cells": [
  {
   "cell_type": "markdown",
   "metadata": {},
   "source": [
    "# Salary Predictions Based on Job Descriptions"
   ]
  },
  {
   "cell_type": "markdown",
   "metadata": {},
   "source": [
    "# Part 1 - DEFINE"
   ]
  },
  {
   "cell_type": "markdown",
   "metadata": {},
   "source": [
    "### ---- 1 Define the problem ----"
   ]
  },
  {
   "cell_type": "markdown",
   "metadata": {},
   "source": [
    "Analyzing the given set of job descriptions and predicting the salaries for the new set of job descriptions"
   ]
  },
  {
   "cell_type": "code",
   "execution_count": 3,
   "metadata": {},
   "outputs": [],
   "source": [
    "#import your libraries\n",
    "import pandas as pd\n",
    "import sklearn as sk\n",
    "import numpy as np\n",
    "import matplotlib.pyplot as plt\n",
    "import seaborn as sns\n",
    "sns.set(style=\"whitegrid\")\n",
    "#etc\n",
    "\n",
    "#your info here\n",
    "__author__ = \"Manohar Sai Jasti\"\n",
    "__email__ = \"jmanoharsai5@gmail.com\""
   ]
  },
  {
   "cell_type": "markdown",
   "metadata": {},
   "source": [
    "## Part 2 - DISCOVER"
   ]
  },
  {
   "cell_type": "code",
   "execution_count": 50,
   "metadata": {},
   "outputs": [],
   "source": [
    "#load the data into a Pandas dataframe\n",
    "class BasicDataProcessing:\n",
    "    def __init__(self, path=\"\"):\n",
    "        self.path = path\n",
    "    def load_data(self):\n",
    "        print(\"Loading sample data from\", self.path, \"into a dataframe\")\n",
    "        dataFrame = pd.read_csv(self.path)\n",
    "        print(\"done..\")\n",
    "        print(\"here is the sample data from the dataFrame \\n\")\n",
    "        print(dataFrame.head())\n",
    "        print(\" \\n shape of the data frame is: \", dataFrame.shape)\n",
    "        return dataFrame\n",
    "    def get_summary(self, dataFrame):\n",
    "        print(\"Numerical cols statistics \\n\")\n",
    "        print(dataFrame.describe(include = [np.number]))\n",
    "        print(\"\\n Categorical cols statistics \\n\")\n",
    "        print(dataFrame.describe(include = ['O']))\n",
    "    def merge_data(self, train, labels, unique_identifier):\n",
    "        merge_df = pd.merge(train, labels, on = unique_identifier)\n",
    "        print(\"merging done\")\n",
    "        print(\"here is the sample data from the new dataFrame \\n\")\n",
    "        print(merge_df.head())\n",
    "        print(\" \\n shape of the data frame is: \", merge_df.shape)\n",
    "        return merge_df\n",
    "    def binning(self, df, target, num_of_samples, group_names):\n",
    "        print(\"Performing binning\")\n",
    "        bins = np.linspace(min(df[target]), max(df[target]), num_of_samples)\n",
    "        target_binned = target + \"Binned\"\n",
    "        print(\"Adding the binned column to the dataFrame\")\n",
    "        df[target_binned] = pd.cut(df[target], bins, labels = group_names, include_lowest = True)\n",
    "        return df\n",
    "    def correlation_heatMap(self, train_df):\n",
    "        corr = train_df.corr()\n",
    "        sns.heatmap(corr, \n",
    "                xticklabels=corr.columns.values,\n",
    "                yticklabels=corr.columns.values)\n",
    "        plt.title('Heatmap of Correlation Matrix')\n",
    "        corr\n",
    "        plt.gcf().set_size_inches(11.7, 8.27)\n"
   ]
  },
  {
   "cell_type": "code",
   "execution_count": 3,
   "metadata": {},
   "outputs": [
    {
     "name": "stdout",
     "output_type": "stream",
     "text": [
      "total 269304\r\n",
      "-rwxr-xr-x@ 1 manoharsaijasti  staff    56M Oct  8  2016 \u001b[31mtest_features.csv\u001b[m\u001b[m\r\n",
      "-rwxr-xr-x@ 1 manoharsaijasti  staff    56M Oct  8  2016 \u001b[31mtrain_features.csv\u001b[m\u001b[m\r\n",
      "-rwxr-xr-x@ 1 manoharsaijasti  staff    20M Oct  8  2016 \u001b[31mtrain_salaries.csv\u001b[m\u001b[m\r\n"
     ]
    }
   ],
   "source": [
    "!ls -lh data"
   ]
  },
  {
   "cell_type": "markdown",
   "metadata": {},
   "source": [
    "### ---- 2 Load the data ----"
   ]
  },
  {
   "cell_type": "code",
   "execution_count": 4,
   "metadata": {},
   "outputs": [
    {
     "name": "stdout",
     "output_type": "stream",
     "text": [
      "Loading sample data from data/train_features.csv into a dataframe\n",
      "done..\n",
      "here is the sample data from the dataFrame \n",
      "\n",
      "              jobId companyId         jobType       degree      major  \\\n",
      "0  JOB1362684407687    COMP37             CFO      MASTERS       MATH   \n",
      "1  JOB1362684407688    COMP19             CEO  HIGH_SCHOOL       NONE   \n",
      "2  JOB1362684407689    COMP52  VICE_PRESIDENT     DOCTORAL    PHYSICS   \n",
      "3  JOB1362684407690    COMP38         MANAGER     DOCTORAL  CHEMISTRY   \n",
      "4  JOB1362684407691     COMP7  VICE_PRESIDENT    BACHELORS    PHYSICS   \n",
      "\n",
      "  industry  yearsExperience  milesFromMetropolis  \n",
      "0   HEALTH               10                   83  \n",
      "1      WEB                3                   73  \n",
      "2   HEALTH               10                   38  \n",
      "3     AUTO                8                   17  \n",
      "4  FINANCE                8                   16  \n",
      " \n",
      " shape of the data frame is:  (1000000, 8)\n"
     ]
    }
   ],
   "source": [
    "myTrainData = BasicDataProcessing(\"data/train_features.csv\")\n",
    "train_features = myTrainData.load_data()"
   ]
  },
  {
   "cell_type": "code",
   "execution_count": 5,
   "metadata": {},
   "outputs": [
    {
     "name": "stdout",
     "output_type": "stream",
     "text": [
      "Loading sample data from data/test_features.csv into a dataframe\n",
      "done..\n",
      "here is the sample data from the dataFrame \n",
      "\n",
      "              jobId companyId  jobType       degree    major industry  \\\n",
      "0  JOB1362685407687    COMP33  MANAGER  HIGH_SCHOOL     NONE   HEALTH   \n",
      "1  JOB1362685407688    COMP13   JUNIOR         NONE     NONE     AUTO   \n",
      "2  JOB1362685407689    COMP10      CTO      MASTERS  BIOLOGY   HEALTH   \n",
      "3  JOB1362685407690    COMP21  MANAGER  HIGH_SCHOOL     NONE      OIL   \n",
      "4  JOB1362685407691    COMP36   JUNIOR     DOCTORAL  BIOLOGY      OIL   \n",
      "\n",
      "   yearsExperience  milesFromMetropolis  \n",
      "0               22                   73  \n",
      "1               20                   47  \n",
      "2               17                    9  \n",
      "3               14                   96  \n",
      "4               10                   44  \n",
      " \n",
      " shape of the data frame is:  (1000000, 8)\n"
     ]
    }
   ],
   "source": [
    "myTestData = BasicDataProcessing(\"data/test_features.csv\")\n",
    "test_features = myTestData.load_data()"
   ]
  },
  {
   "cell_type": "code",
   "execution_count": 6,
   "metadata": {},
   "outputs": [
    {
     "name": "stdout",
     "output_type": "stream",
     "text": [
      "Loading sample data from data/train_salaries.csv into a dataframe\n",
      "done..\n",
      "here is the sample data from the dataFrame \n",
      "\n",
      "              jobId  salary\n",
      "0  JOB1362684407687     130\n",
      "1  JOB1362684407688     101\n",
      "2  JOB1362684407689     137\n",
      "3  JOB1362684407690     142\n",
      "4  JOB1362684407691     163\n",
      " \n",
      " shape of the data frame is:  (1000000, 2)\n"
     ]
    }
   ],
   "source": [
    "mySalaries = BasicDataProcessing(\"data/train_salaries.csv\")\n",
    "train_salaries = mySalaries.load_data()"
   ]
  },
  {
   "cell_type": "markdown",
   "metadata": {},
   "source": [
    "jobId is the unique identifier for train_features and train_salaries for 1000000 recordsso we can use it to merge them"
   ]
  },
  {
   "cell_type": "code",
   "execution_count": 7,
   "metadata": {},
   "outputs": [
    {
     "name": "stdout",
     "output_type": "stream",
     "text": [
      "merging done\n",
      "here is the sample data from the new dataFrame \n",
      "\n",
      "              jobId companyId         jobType       degree      major  \\\n",
      "0  JOB1362684407687    COMP37             CFO      MASTERS       MATH   \n",
      "1  JOB1362684407688    COMP19             CEO  HIGH_SCHOOL       NONE   \n",
      "2  JOB1362684407689    COMP52  VICE_PRESIDENT     DOCTORAL    PHYSICS   \n",
      "3  JOB1362684407690    COMP38         MANAGER     DOCTORAL  CHEMISTRY   \n",
      "4  JOB1362684407691     COMP7  VICE_PRESIDENT    BACHELORS    PHYSICS   \n",
      "\n",
      "  industry  yearsExperience  milesFromMetropolis  salary  \n",
      "0   HEALTH               10                   83     130  \n",
      "1      WEB                3                   73     101  \n",
      "2   HEALTH               10                   38     137  \n",
      "3     AUTO                8                   17     142  \n",
      "4  FINANCE                8                   16     163  \n",
      " \n",
      " shape of the data frame is:  (1000000, 9)\n"
     ]
    }
   ],
   "source": [
    "#Merge the features and salaries on jobId\n",
    "mergeObj = BasicDataProcessing()\n",
    "train_df = mergeObj.merge_data(train_features, train_salaries, unique_identifier = 'jobId')"
   ]
  },
  {
   "cell_type": "markdown",
   "metadata": {},
   "source": [
    "### ---- 3 Clean the data ----"
   ]
  },
  {
   "cell_type": "code",
   "execution_count": 8,
   "metadata": {},
   "outputs": [],
   "source": [
    "class CleanData():\n",
    "    def __init__(self, train, test):\n",
    "        self.train = train\n",
    "        self.test = test\n",
    "    def chackDuplicateData(self):\n",
    "        print(\"looking for duplicate data in train data \\n\")\n",
    "        train_duplicate_data_sum = self.train.duplicated().sum()\n",
    "        print(\"There are\", train_duplicate_data_sum, \"duplicate records in the train data\")\n",
    "        print(\"looking for duplicate data in test data\")\n",
    "        test_duplicate_data_sum = self.test.duplicated().sum()\n",
    "        print(\"There are\",  test_duplicate_data_sum, \"duplicate records in the test data\")\n",
    "    def detectOutliers(self, target):\n",
    "        print(\"Plotting the box plot of given target to detect outliers\")\n",
    "        sns.boxplot(x = train_df.salary)\n",
    "    def detectMissingData(self, df):\n",
    "        print(\"Checking the missing data\")\n",
    "        missing_Data_Sum = df.isnull().sum().sum()\n",
    "        print(\"There are\",  missing_Data_Sum, \"missing records in the test data\")"
   ]
  },
  {
   "cell_type": "code",
   "execution_count": 9,
   "metadata": {},
   "outputs": [],
   "source": [
    "#look for duplicate data in both train and test sets\n",
    "cleanDataObj = CleanData(train_df, test_features)\n"
   ]
  },
  {
   "cell_type": "code",
   "execution_count": 10,
   "metadata": {},
   "outputs": [
    {
     "name": "stdout",
     "output_type": "stream",
     "text": [
      "looking for duplicate data in train data \n",
      "\n",
      "There are 0 duplicate records in the train data\n",
      "looking for duplicate data in test data\n",
      "There are 0 duplicate records in the test data\n"
     ]
    }
   ],
   "source": [
    "cleanDataObj.chackDuplicateData()"
   ]
  },
  {
   "cell_type": "code",
   "execution_count": 11,
   "metadata": {},
   "outputs": [
    {
     "name": "stdout",
     "output_type": "stream",
     "text": [
      "Plotting the box plot of given target to detect outliers\n"
     ]
    },
    {
     "data": {
      "image/png": "[encoded data removed]",
      "text/plain": [
       "<Figure size 432x288 with 1 Axes>"
      ]
     },
     "metadata": {
      "needs_background": "light"
     },
     "output_type": "display_data"
    }
   ],
   "source": [
    "#look for invalid data\n",
    "cleanDataObj.detectOutliers(train_df.salary)"
   ]
  },
  {
   "cell_type": "markdown",
   "metadata": {},
   "source": [
    "There exists salary amount of zero, so we will look at the data to identify what type of employees are having that salary for a better intuitive"
   ]
  },
  {
   "cell_type": "code",
   "execution_count": 12,
   "metadata": {},
   "outputs": [
    {
     "data": {
      "text/html": [
       "<div>\n",
       "<style scoped>\n",
       "    .dataframe tbody tr th:only-of-type {\n",
       "        vertical-align: middle;\n",
       "    }\n",
       "\n",
       "    .dataframe tbody tr th {\n",
       "        vertical-align: top;\n",
       "    }\n",
       "\n",
       "    .dataframe thead th {\n",
       "        text-align: right;\n",
       "    }\n",
       "</style>\n",
       "<table border=\"1\" class=\"dataframe\">\n",
       "  <thead>\n",
       "    <tr style=\"text-align: right;\">\n",
       "      <th></th>\n",
       "      <th>jobId</th>\n",
       "      <th>companyId</th>\n",
       "      <th>jobType</th>\n",
       "      <th>degree</th>\n",
       "      <th>major</th>\n",
       "      <th>industry</th>\n",
       "      <th>yearsExperience</th>\n",
       "      <th>milesFromMetropolis</th>\n",
       "      <th>salary</th>\n",
       "    </tr>\n",
       "  </thead>\n",
       "  <tbody>\n",
       "    <tr>\n",
       "      <th>30559</th>\n",
       "      <td>JOB1362684438246</td>\n",
       "      <td>COMP44</td>\n",
       "      <td>JUNIOR</td>\n",
       "      <td>DOCTORAL</td>\n",
       "      <td>MATH</td>\n",
       "      <td>AUTO</td>\n",
       "      <td>11</td>\n",
       "      <td>7</td>\n",
       "      <td>0</td>\n",
       "    </tr>\n",
       "    <tr>\n",
       "      <th>495984</th>\n",
       "      <td>JOB1362684903671</td>\n",
       "      <td>COMP34</td>\n",
       "      <td>JUNIOR</td>\n",
       "      <td>NONE</td>\n",
       "      <td>NONE</td>\n",
       "      <td>OIL</td>\n",
       "      <td>1</td>\n",
       "      <td>25</td>\n",
       "      <td>0</td>\n",
       "    </tr>\n",
       "    <tr>\n",
       "      <th>652076</th>\n",
       "      <td>JOB1362685059763</td>\n",
       "      <td>COMP25</td>\n",
       "      <td>CTO</td>\n",
       "      <td>HIGH_SCHOOL</td>\n",
       "      <td>NONE</td>\n",
       "      <td>AUTO</td>\n",
       "      <td>6</td>\n",
       "      <td>60</td>\n",
       "      <td>0</td>\n",
       "    </tr>\n",
       "    <tr>\n",
       "      <th>816129</th>\n",
       "      <td>JOB1362685223816</td>\n",
       "      <td>COMP42</td>\n",
       "      <td>MANAGER</td>\n",
       "      <td>DOCTORAL</td>\n",
       "      <td>ENGINEERING</td>\n",
       "      <td>FINANCE</td>\n",
       "      <td>18</td>\n",
       "      <td>6</td>\n",
       "      <td>0</td>\n",
       "    </tr>\n",
       "    <tr>\n",
       "      <th>828156</th>\n",
       "      <td>JOB1362685235843</td>\n",
       "      <td>COMP40</td>\n",
       "      <td>VICE_PRESIDENT</td>\n",
       "      <td>MASTERS</td>\n",
       "      <td>ENGINEERING</td>\n",
       "      <td>WEB</td>\n",
       "      <td>3</td>\n",
       "      <td>29</td>\n",
       "      <td>0</td>\n",
       "    </tr>\n",
       "  </tbody>\n",
       "</table>\n",
       "</div>"
      ],
      "text/plain": [
       "                   jobId companyId         jobType       degree        major  \\\n",
       "30559   JOB1362684438246    COMP44          JUNIOR     DOCTORAL         MATH   \n",
       "495984  JOB1362684903671    COMP34          JUNIOR         NONE         NONE   \n",
       "652076  JOB1362685059763    COMP25             CTO  HIGH_SCHOOL         NONE   \n",
       "816129  JOB1362685223816    COMP42         MANAGER     DOCTORAL  ENGINEERING   \n",
       "828156  JOB1362685235843    COMP40  VICE_PRESIDENT      MASTERS  ENGINEERING   \n",
       "\n",
       "       industry  yearsExperience  milesFromMetropolis  salary  \n",
       "30559      AUTO               11                    7       0  \n",
       "495984      OIL                1                   25       0  \n",
       "652076     AUTO                6                   60       0  \n",
       "816129  FINANCE               18                    6       0  \n",
       "828156      WEB                3                   29       0  "
      ]
     },
     "execution_count": 12,
     "metadata": {},
     "output_type": "execute_result"
    }
   ],
   "source": [
    "#look for data where salary amount is zero\n",
    "train_df[train_df.salary==0]"
   ]
  },
  {
   "cell_type": "markdown",
   "metadata": {},
   "source": [
    "Based on the above data it looks like salary was missing for these jobId's, so these can be removed for building a better model "
   ]
  },
  {
   "cell_type": "code",
   "execution_count": 13,
   "metadata": {},
   "outputs": [],
   "source": [
    "#removing the invalid data (salaries=0)\n",
    "train_df = train_df[train_df.salary>0]"
   ]
  },
  {
   "cell_type": "code",
   "execution_count": 14,
   "metadata": {},
   "outputs": [
    {
     "name": "stdout",
     "output_type": "stream",
     "text": [
      "Checking the missing data\n",
      "There are 0 missing records in the test data\n"
     ]
    }
   ],
   "source": [
    "#checking for missing data\n",
    "cleanDataObj.detectMissingData(train_df)"
   ]
  },
  {
   "cell_type": "markdown",
   "metadata": {},
   "source": [
    "### ---- 4 Explore the data (EDA) ----"
   ]
  },
  {
   "cell_type": "code",
   "execution_count": 15,
   "metadata": {},
   "outputs": [],
   "source": [
    "#summarize each feature variable\n",
    "#summarize the target variable\n",
    "#look for correlation between each feature and the target\n",
    "#look for correlation between features"
   ]
  },
  {
   "cell_type": "code",
   "execution_count": 16,
   "metadata": {},
   "outputs": [
    {
     "name": "stdout",
     "output_type": "stream",
     "text": [
      "Numerical cols statistics \n",
      "\n",
      "       yearsExperience  milesFromMetropolis         salary\n",
      "count    999995.000000        999995.000000  999995.000000\n",
      "mean         11.992407            49.529381     116.062398\n",
      "std           7.212390            28.877721      38.717163\n",
      "min           0.000000             0.000000      17.000000\n",
      "25%           6.000000            25.000000      88.000000\n",
      "50%          12.000000            50.000000     114.000000\n",
      "75%          18.000000            75.000000     141.000000\n",
      "max          24.000000            99.000000     301.000000\n",
      "\n",
      " Categorical cols statistics \n",
      "\n",
      "                   jobId companyId jobType       degree   major industry\n",
      "count             999995    999995  999995       999995  999995   999995\n",
      "unique            999995        63       8            5       9        7\n",
      "top     JOB1362684840223    COMP39  SENIOR  HIGH_SCHOOL    NONE      WEB\n",
      "freq                   1     16193  125886       236975  532353   143205\n"
     ]
    }
   ],
   "source": [
    "mergeObj.get_summary(train_df)"
   ]
  },
  {
   "cell_type": "code",
   "execution_count": 25,
   "metadata": {},
   "outputs": [],
   "source": [
    "#saving the trainDataFrame to a new dataFrame\n",
    "salary_desc = train_df.copy()"
   ]
  },
  {
   "cell_type": "code",
   "execution_count": 39,
   "metadata": {},
   "outputs": [],
   "source": [
    "binningObj = BasicDataProcessing()"
   ]
  },
  {
   "cell_type": "code",
   "execution_count": 41,
   "metadata": {},
   "outputs": [
    {
     "name": "stdout",
     "output_type": "stream",
     "text": [
      "Performing binning\n",
      "Adding the binned column to the dataFrame\n"
     ]
    }
   ],
   "source": [
    "salary_desc = binningObj.binning(salary_desc, \"salary\", 4, group_names = [\"low\", \"medium\", \"high\"])"
   ]
  },
  {
   "cell_type": "code",
   "execution_count": 42,
   "metadata": {},
   "outputs": [
    {
     "data": {
      "text/html": [
       "<div>\n",
       "<style scoped>\n",
       "    .dataframe tbody tr th:only-of-type {\n",
       "        vertical-align: middle;\n",
       "    }\n",
       "\n",
       "    .dataframe tbody tr th {\n",
       "        vertical-align: top;\n",
       "    }\n",
       "\n",
       "    .dataframe thead th {\n",
       "        text-align: right;\n",
       "    }\n",
       "</style>\n",
       "<table border=\"1\" class=\"dataframe\">\n",
       "  <thead>\n",
       "    <tr style=\"text-align: right;\">\n",
       "      <th></th>\n",
       "      <th>jobId</th>\n",
       "      <th>companyId</th>\n",
       "      <th>jobType</th>\n",
       "      <th>degree</th>\n",
       "      <th>major</th>\n",
       "      <th>industry</th>\n",
       "      <th>yearsExperience</th>\n",
       "      <th>milesFromMetropolis</th>\n",
       "      <th>salary</th>\n",
       "      <th>salaryBinned</th>\n",
       "    </tr>\n",
       "  </thead>\n",
       "  <tbody>\n",
       "    <tr>\n",
       "      <th>0</th>\n",
       "      <td>JOB1362684407687</td>\n",
       "      <td>COMP37</td>\n",
       "      <td>CFO</td>\n",
       "      <td>MASTERS</td>\n",
       "      <td>MATH</td>\n",
       "      <td>HEALTH</td>\n",
       "      <td>10</td>\n",
       "      <td>83</td>\n",
       "      <td>130</td>\n",
       "      <td>medium</td>\n",
       "    </tr>\n",
       "    <tr>\n",
       "      <th>1</th>\n",
       "      <td>JOB1362684407688</td>\n",
       "      <td>COMP19</td>\n",
       "      <td>CEO</td>\n",
       "      <td>HIGH_SCHOOL</td>\n",
       "      <td>NONE</td>\n",
       "      <td>WEB</td>\n",
       "      <td>3</td>\n",
       "      <td>73</td>\n",
       "      <td>101</td>\n",
       "      <td>low</td>\n",
       "    </tr>\n",
       "    <tr>\n",
       "      <th>2</th>\n",
       "      <td>JOB1362684407689</td>\n",
       "      <td>COMP52</td>\n",
       "      <td>VICE_PRESIDENT</td>\n",
       "      <td>DOCTORAL</td>\n",
       "      <td>PHYSICS</td>\n",
       "      <td>HEALTH</td>\n",
       "      <td>10</td>\n",
       "      <td>38</td>\n",
       "      <td>137</td>\n",
       "      <td>medium</td>\n",
       "    </tr>\n",
       "    <tr>\n",
       "      <th>3</th>\n",
       "      <td>JOB1362684407690</td>\n",
       "      <td>COMP38</td>\n",
       "      <td>MANAGER</td>\n",
       "      <td>DOCTORAL</td>\n",
       "      <td>CHEMISTRY</td>\n",
       "      <td>AUTO</td>\n",
       "      <td>8</td>\n",
       "      <td>17</td>\n",
       "      <td>142</td>\n",
       "      <td>medium</td>\n",
       "    </tr>\n",
       "    <tr>\n",
       "      <th>4</th>\n",
       "      <td>JOB1362684407691</td>\n",
       "      <td>COMP7</td>\n",
       "      <td>VICE_PRESIDENT</td>\n",
       "      <td>BACHELORS</td>\n",
       "      <td>PHYSICS</td>\n",
       "      <td>FINANCE</td>\n",
       "      <td>8</td>\n",
       "      <td>16</td>\n",
       "      <td>163</td>\n",
       "      <td>medium</td>\n",
       "    </tr>\n",
       "  </tbody>\n",
       "</table>\n",
       "</div>"
      ],
      "text/plain": [
       "              jobId companyId         jobType       degree      major  \\\n",
       "0  JOB1362684407687    COMP37             CFO      MASTERS       MATH   \n",
       "1  JOB1362684407688    COMP19             CEO  HIGH_SCHOOL       NONE   \n",
       "2  JOB1362684407689    COMP52  VICE_PRESIDENT     DOCTORAL    PHYSICS   \n",
       "3  JOB1362684407690    COMP38         MANAGER     DOCTORAL  CHEMISTRY   \n",
       "4  JOB1362684407691     COMP7  VICE_PRESIDENT    BACHELORS    PHYSICS   \n",
       "\n",
       "  industry  yearsExperience  milesFromMetropolis  salary salaryBinned  \n",
       "0   HEALTH               10                   83     130       medium  \n",
       "1      WEB                3                   73     101          low  \n",
       "2   HEALTH               10                   38     137       medium  \n",
       "3     AUTO                8                   17     142       medium  \n",
       "4  FINANCE                8                   16     163       medium  "
      ]
     },
     "execution_count": 42,
     "metadata": {},
     "output_type": "execute_result"
    }
   ],
   "source": [
    "salary_desc.head()"
   ]
  },
  {
   "cell_type": "code",
   "execution_count": 46,
   "metadata": {},
   "outputs": [
    {
     "name": "stdout",
     "output_type": "stream",
     "text": [
      "Numerical cols statistics \n",
      "\n",
      "             yearsExperience                                              \\\n",
      "                       count       mean       std  min   25%   50%   75%   \n",
      "salaryBinned                                                               \n",
      "low                 476451.0   9.754816  6.906327  0.0   4.0   9.0  15.0   \n",
      "medium              507486.0  13.862790  6.872183  0.0   8.0  15.0  20.0   \n",
      "high                 16058.0  19.272824  4.421478  0.0  17.0  20.0  23.0   \n",
      "\n",
      "                   milesFromMetropolis             ...                salary  \\\n",
      "               max               count       mean  ...   75%   max     count   \n",
      "salaryBinned                                       ...                         \n",
      "low           24.0            476451.0  56.504474  ...  81.0  99.0  476451.0   \n",
      "medium        24.0            507486.0  43.799309  ...  67.0  99.0  507486.0   \n",
      "high          24.0             16058.0  23.663221  ...  35.0  99.0   16058.0   \n",
      "\n",
      "                                                                        \n",
      "                    mean        std    min    25%    50%    75%    max  \n",
      "salaryBinned                                                            \n",
      "low            83.741638  19.507159   17.0   71.0   87.0  100.0  111.0  \n",
      "medium        143.042917  22.893044  112.0  124.0  139.0  158.0  206.0  \n",
      "high          222.365986  13.975080  207.0  212.0  219.0  229.0  301.0  \n",
      "\n",
      "[3 rows x 24 columns]\n",
      "\n",
      " Categorical cols statistics \n",
      "\n",
      "               jobId                                companyId                 \\\n",
      "               count  unique               top freq     count unique     top   \n",
      "salaryBinned                                                                   \n",
      "low           476451  476451  JOB1362684658551    1    476451     63  COMP35   \n",
      "medium        507486  507486  JOB1362685185009    1    507486     63  COMP39   \n",
      "high           16058   16058  JOB1362684798323    1     16058     63  COMP62   \n",
      "\n",
      "                   jobType         ...    degree           major         \\\n",
      "              freq   count unique  ...       top    freq   count unique   \n",
      "salaryBinned                       ...                                    \n",
      "low           7720  476451      8  ...      NONE  158259  476451      9   \n",
      "medium        8276  507486      8  ...  DOCTORAL  121634  507486      9   \n",
      "high           318   16058      7  ...  DOCTORAL    6208   16058      9   \n",
      "\n",
      "                                  industry                           \n",
      "                      top    freq    count unique        top   freq  \n",
      "salaryBinned                                                         \n",
      "low                  NONE  329877   476451      7  EDUCATION  92697  \n",
      "medium               NONE  199811   507486      7    FINANCE  91420  \n",
      "high          ENGINEERING    2869    16058      7        OIL   4900  \n",
      "\n",
      "[3 rows x 24 columns]\n"
     ]
    }
   ],
   "source": [
    "price_binned_salary = salary_desc.groupby('salaryBinned')\n",
    "binningObj.get_summary(price_binned_salary)"
   ]
  },
  {
   "cell_type": "code",
   "execution_count": 52,
   "metadata": {},
   "outputs": [],
   "source": [
    "corrObj = BasicDataProcessing()"
   ]
  },
  {
   "cell_type": "code",
   "execution_count": 53,
   "metadata": {},
   "outputs": [
    {
     "data": {
      "image/png": "[encoded data removed]",
      "text/plain": [
       "<Figure size 842.4x595.44 with 2 Axes>"
      ]
     },
     "metadata": {
      "needs_background": "light"
     },
     "output_type": "display_data"
    }
   ],
   "source": [
    "corrObj.correlation_heatMap(train_df)"
   ]
  },
  {
   "cell_type": "markdown",
   "metadata": {},
   "source": [
    "### ---- 4 Explore the data (EDA) ----"
   ]
  },
  {
   "cell_type": "code",
   "execution_count": 1,
   "metadata": {},
   "outputs": [],
   "source": [
    "#summarize each feature variable\n",
    "#summarize the target variable\n",
    "#look for correlation between each feature and the target\n",
    "#look for correlation between features"
   ]
  },
  {
   "cell_type": "code",
   "execution_count": 2,
   "metadata": {},
   "outputs": [
    {
     "ename": "NameError",
     "evalue": "name 'train_df' is not defined",
     "output_type": "error",
     "traceback": [
      "\u001b[0;31m---------------------------------------------------------------------------\u001b[0m",
      "\u001b[0;31mNameError\u001b[0m                                 Traceback (most recent call last)",
      "\u001b[0;32m<ipython-input-2-5fa06524d2e8>\u001b[0m in \u001b[0;36m<module>\u001b[0;34m()\u001b[0m\n\u001b[1;32m      1\u001b[0m \u001b[0;31m#how many observations are in the dataset after cleaning the data\u001b[0m\u001b[0;34m\u001b[0m\u001b[0;34m\u001b[0m\u001b[0m\n\u001b[0;32m----> 2\u001b[0;31m \u001b[0mtrain_df\u001b[0m\u001b[0;34m.\u001b[0m\u001b[0mshape\u001b[0m\u001b[0;34m\u001b[0m\u001b[0m\n\u001b[0m",
      "\u001b[0;31mNameError\u001b[0m: name 'train_df' is not defined"
     ]
    }
   ],
   "source": [
    "#how many observations are in the dataset after cleaning the data\n",
    "train_df.shape"
   ]
  },
  {
   "cell_type": "code",
   "execution_count": null,
   "metadata": {},
   "outputs": [],
   "source": []
  }
 ],
 "metadata": {
  "kernelspec": {
   "display_name": "Python 3",
   "language": "python",
   "name": "python3"
  },
  "language_info": {
   "codemirror_mode": {
    "name": "ipython",
    "version": 3
   },
   "file_extension": ".py",
   "mimetype": "text/x-python",
   "name": "python",
   "nbconvert_exporter": "python",
   "pygments_lexer": "ipython3",
   "version": "3.6.3"
  }
 },
 "nbformat": 4,
 "nbformat_minor": 2
}
